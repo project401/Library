{
 "cells": [
  {
   "cell_type": "code",
   "execution_count": 2,
   "id": "0445abd0",
   "metadata": {},
   "outputs": [],
   "source": [
    "import cv2\n",
    "import numpy as np\n",
    "import mediapipe as mp"
   ]
  },
  {
   "cell_type": "code",
   "execution_count": 1,
   "id": "436de259",
   "metadata": {},
   "outputs": [],
   "source": [
    "import torch\n",
    "#from matplotlib import pyplot as plt\n",
    "import cv2\n",
    "#import uuid \n",
    "#import os\n",
    "#import time\n",
    "import numpy as np\n",
    "import pandas\n",
    "from playsound import playsound\n",
    "#model = torch.hub.load('ultralytics/yolov5', 'custom', path= r\"C:\\Users\\97450\\Desktop\\Riffle_det\\lastx.pt\", force_reload=True)  # or yolov5n - yolov5x6, custom"
   ]
  },
  {
   "cell_type": "code",
   "execution_count": null,
   "id": "69ea6388",
   "metadata": {},
   "outputs": [],
   "source": []
  },
  {
   "cell_type": "code",
   "execution_count": 3,
   "id": "0d2a21d1",
   "metadata": {},
   "outputs": [],
   "source": [
    "mp_drawing = mp.solutions.drawing_utils\n",
    "mp_pose = mp.solutions.pose"
   ]
  },
  {
   "cell_type": "code",
   "execution_count": 4,
   "id": "1a2b9928",
   "metadata": {},
   "outputs": [],
   "source": [
    "mp_drawing = mp.solutions.drawing_utils\n",
    "mp_pose = mp.solutions.pose\n",
    "cap = cv2.VideoCapture (0)\n",
    "with mp_pose.Pose( min_detection_confidence = 0.5 , min_tracking_confidence = 0.5 ) as pose :\n",
    "    while cap.isOpened():\n",
    "        ret , image=cap.read()\n",
    "        image = cv2.cvtColor( image , cv2.COLOR_BGR2RGB )\n",
    "        image.flags.writeable = True\n",
    "        results = pose.process( image )\n",
    "\n",
    "        image.flags.writeable = False\n",
    "        image = cv2.cvtColor( image , cv2.COLOR_RGB2BGR )\n",
    "        mp_drawing.draw_landmarks( image , results.pose_landmarks , mp_pose.POSE_CONNECTIONS ,\n",
    "                        mp_drawing.DrawingSpec( color = ( 245,117,66 ) , thickness = 1 , circle_radius = 4 ) ,\n",
    "                        mp_drawing.DrawingSpec( color = ( 245,66,230 ) , thickness = 2 , circle_radius = 2 )\n",
    "                                 )\n",
    "        cv2.imshow(' Raw Webcam Feed' , image )\n",
    "        if cv2.waitKey(10) & 0xFF == ord('q') :\n",
    "            break\n",
    "    cap.release()\n",
    "    cv2.destroyAllWindows()"
   ]
  },
  {
   "cell_type": "markdown",
   "id": "84101dd3",
   "metadata": {},
   "source": [
    "# two Models"
   ]
  },
  {
   "cell_type": "code",
   "execution_count": null,
   "id": "7afe5d2b",
   "metadata": {},
   "outputs": [],
   "source": [
    "mp_drawing = mp.solutions.drawing_utils\n",
    "mp_pose = mp.solutions.pose\n",
    "cap = cv2.VideoCapture (0)\n",
    "with mp_pose.Pose( min_detection_confidence = 0.5 , min_tracking_confidence = 0.5 ) as pose :\n",
    "    while cap.isOpened():\n",
    "        ret , image=cap.read()\n",
    "        image = cv2.cvtColor( image , cv2.COLOR_BGR2RGB )\n",
    "        image.flags.writeable = True\n",
    "        r = pose.process( image )\n",
    "\n",
    "        image.flags.writeable = False\n",
    "        image = cv2.cvtColor( image , cv2.COLOR_RGB2BGR )\n",
    "        mp_drawing.draw_landmarks( image , r.pose_landmarks , mp_pose.POSE_CONNECTIONS ,\n",
    "                        mp_drawing.DrawingSpec( color = ( 245,117,66 ) , thickness = 1 , circle_radius = 4 ) ,\n",
    "                        mp_drawing.DrawingSpec( color = ( 245,66,230 ) , thickness = 2 , circle_radius = 2 )\n",
    "                                 )\n",
    "        r = model(image)\n",
    "\n",
    "        cv2.imshow(' Raw Webcam Feed',np.squeeze(r.render()))\n",
    "\n",
    "        if cv2.waitKey(10) & 0xFF == ord('q') :\n",
    "            break\n",
    "    cap.release()\n",
    "    cv2.destroyAllWindows()"
   ]
  },
  {
   "cell_type": "markdown",
   "id": "c5568947",
   "metadata": {},
   "source": [
    "# save video"
   ]
  },
  {
   "cell_type": "code",
   "execution_count": null,
   "id": "7db8f5c3",
   "metadata": {},
   "outputs": [],
   "source": [
    "cap = cv2.VideoCapture(0)\n",
    "height = cap.get(cv2.CAP_PROP_FRAME_HEIGHT)\n",
    "width=cap.get(cv2.CAP_PROP_FRAME_WIDTH)\n",
    "fps = cap.get(cv2.CAP_PROP_FPS)\n",
    "videoWriter = cv2.VideoWriter(\"clutch_1.avi\", cv2.VideoWriter_fourcc('P','I','M','1'),fps,(int(width),int(height)))\n",
    "while cap.isOpened():\n",
    "    ret,frame = cap.read()\n",
    "    try:\n",
    "        cv2.imshow('Press', frame)\n",
    "        videoWriter.write(frame)\n",
    "    except Exception as e:\n",
    "        break\n",
    "    if cv2.waitKey(10) & 0xFF ==ord('q'):\n",
    "        break\n",
    "cap.release()\n",
    "videoWriter.release()\n",
    "cv2.destroyAllWindows()"
   ]
  },
  {
   "cell_type": "code",
   "execution_count": null,
   "id": "53b72438",
   "metadata": {},
   "outputs": [],
   "source": []
  },
  {
   "cell_type": "markdown",
   "id": "e0fed14c",
   "metadata": {},
   "source": [
    "# capture landmarks in csv \n"
   ]
  },
  {
   "cell_type": "code",
   "execution_count": 15,
   "id": "ee0e4579",
   "metadata": {},
   "outputs": [],
   "source": [
    "import csv\n",
    "import os \n",
    "import numpy as np\n",
    "from matplotlib import pyplot as plt"
   ]
  },
  {
   "cell_type": "code",
   "execution_count": 16,
   "id": "0f77979c",
   "metadata": {},
   "outputs": [],
   "source": [
    "landmarks = ['class']\n",
    "for val in range(1,33+1):\n",
    "    landmarks +=['x{}'.format(val), 'y{}'.format(val),'z{}'.format(val),'v{}'.format(val)]"
   ]
  },
  {
   "cell_type": "code",
   "execution_count": 17,
   "id": "76fb2878",
   "metadata": {
    "scrolled": true
   },
   "outputs": [
    {
     "data": {
      "text/plain": [
       "['x1',\n",
       " 'y1',\n",
       " 'z1',\n",
       " 'v1',\n",
       " 'x2',\n",
       " 'y2',\n",
       " 'z2',\n",
       " 'v2',\n",
       " 'x3',\n",
       " 'y3',\n",
       " 'z3',\n",
       " 'v3',\n",
       " 'x4',\n",
       " 'y4',\n",
       " 'z4',\n",
       " 'v4',\n",
       " 'x5',\n",
       " 'y5',\n",
       " 'z5',\n",
       " 'v5',\n",
       " 'x6',\n",
       " 'y6',\n",
       " 'z6',\n",
       " 'v6',\n",
       " 'x7',\n",
       " 'y7',\n",
       " 'z7',\n",
       " 'v7',\n",
       " 'x8',\n",
       " 'y8',\n",
       " 'z8',\n",
       " 'v8',\n",
       " 'x9',\n",
       " 'y9',\n",
       " 'z9',\n",
       " 'v9',\n",
       " 'x10',\n",
       " 'y10',\n",
       " 'z10',\n",
       " 'v10',\n",
       " 'x11',\n",
       " 'y11',\n",
       " 'z11',\n",
       " 'v11',\n",
       " 'x12',\n",
       " 'y12',\n",
       " 'z12',\n",
       " 'v12',\n",
       " 'x13',\n",
       " 'y13',\n",
       " 'z13',\n",
       " 'v13',\n",
       " 'x14',\n",
       " 'y14',\n",
       " 'z14',\n",
       " 'v14',\n",
       " 'x15',\n",
       " 'y15',\n",
       " 'z15',\n",
       " 'v15',\n",
       " 'x16',\n",
       " 'y16',\n",
       " 'z16',\n",
       " 'v16',\n",
       " 'x17',\n",
       " 'y17',\n",
       " 'z17',\n",
       " 'v17',\n",
       " 'x18',\n",
       " 'y18',\n",
       " 'z18',\n",
       " 'v18',\n",
       " 'x19',\n",
       " 'y19',\n",
       " 'z19',\n",
       " 'v19',\n",
       " 'x20',\n",
       " 'y20',\n",
       " 'z20',\n",
       " 'v20',\n",
       " 'x21',\n",
       " 'y21',\n",
       " 'z21',\n",
       " 'v21',\n",
       " 'x22',\n",
       " 'y22',\n",
       " 'z22',\n",
       " 'v22',\n",
       " 'x23',\n",
       " 'y23',\n",
       " 'z23',\n",
       " 'v23',\n",
       " 'x24',\n",
       " 'y24',\n",
       " 'z24',\n",
       " 'v24',\n",
       " 'x25',\n",
       " 'y25',\n",
       " 'z25',\n",
       " 'v25',\n",
       " 'x26',\n",
       " 'y26',\n",
       " 'z26',\n",
       " 'v26',\n",
       " 'x27',\n",
       " 'y27',\n",
       " 'z27',\n",
       " 'v27',\n",
       " 'x28',\n",
       " 'y28',\n",
       " 'z28',\n",
       " 'v28',\n",
       " 'x29',\n",
       " 'y29',\n",
       " 'z29',\n",
       " 'v29',\n",
       " 'x30',\n",
       " 'y30',\n",
       " 'z30',\n",
       " 'v30',\n",
       " 'x31',\n",
       " 'y31',\n",
       " 'z31',\n",
       " 'v31',\n",
       " 'x32',\n",
       " 'y32',\n",
       " 'z32',\n",
       " 'v32',\n",
       " 'x33',\n",
       " 'y33',\n",
       " 'z33',\n",
       " 'v33']"
      ]
     },
     "execution_count": 17,
     "metadata": {},
     "output_type": "execute_result"
    }
   ],
   "source": [
    "landmarks[1:]"
   ]
  },
  {
   "cell_type": "code",
   "execution_count": 18,
   "id": "e53e0e31",
   "metadata": {},
   "outputs": [],
   "source": [
    "with open('coords.csv', mode='w',newline='')as f:\n",
    "    csv_writer= csv.writer(f, delimiter=',',quotechar='\"',quoting=csv.QUOTE_MINIMAL)\n",
    "    csv_writer.writerow(landmarks)"
   ]
  },
  {
   "cell_type": "code",
   "execution_count": 19,
   "id": "aed876fb",
   "metadata": {},
   "outputs": [],
   "source": [
    "def export_landmark(results, action):\n",
    "    try:\n",
    "        keypoints = np.array([[res.x, res.y, res.z, res.visibility] for res in results.pose_landmarks.landmark]).flatten().tolist()\n",
    "        keypoints.insert(0, action)\n",
    "        \n",
    "        with open('coords.csv', mode='a',newline='') as f:\n",
    "            csv_writer= csv.writer(f, delimiter=',',quotechar='\"',quoting=csv.QUOTE_MINIMAL)\n",
    "            csv_writer.writerow(keypoints)\n",
    "    except Exception as e:\n",
    "        pass"
   ]
  },
  {
   "cell_type": "code",
   "execution_count": 20,
   "id": "07f0ad51",
   "metadata": {},
   "outputs": [
    {
     "ename": "NameError",
     "evalue": "name 'results' is not defined",
     "output_type": "error",
     "traceback": [
      "\u001b[1;31m---------------------------------------------------------------------------\u001b[0m",
      "\u001b[1;31mNameError\u001b[0m                                 Traceback (most recent call last)",
      "\u001b[1;32m~\\AppData\\Local\\Temp/ipykernel_3504/1583664443.py\u001b[0m in \u001b[0;36m<module>\u001b[1;34m\u001b[0m\n\u001b[1;32m----> 1\u001b[1;33m \u001b[0mexport_landmark\u001b[0m\u001b[1;33m(\u001b[0m\u001b[0mresults\u001b[0m\u001b[1;33m,\u001b[0m\u001b[1;34m\"up\"\u001b[0m\u001b[1;33m)\u001b[0m\u001b[1;33m\u001b[0m\u001b[1;33m\u001b[0m\u001b[0m\n\u001b[0m",
      "\u001b[1;31mNameError\u001b[0m: name 'results' is not defined"
     ]
    }
   ],
   "source": [
    "export_landmark(results,\"up\")"
   ]
  },
  {
   "cell_type": "code",
   "execution_count": null,
   "id": "381eb7e6",
   "metadata": {},
   "outputs": [],
   "source": [
    "cap=cv2.VideoCapture('press.avi')\n",
    "with mp_pose.Pose( min_detection_confidence = 0.5 , min_tracking_confidence = 0.5 ) as pose :\n",
    "    while cap.isOpened():\n",
    "        ret,frame =cap.read()\n",
    "    \n",
    "        #recolor feed\n",
    "        image = cv2.cvtColor(frame , cv2.COLOR_BGR2RGB )\n",
    "        image.flags.writeable = False\n",
    "        results = pose.process( image )\n",
    "        image.flags.writeable = True\n",
    "        image = cv2.cvtColor(image , cv2.COLOR_RGB2BGR )\n",
    "        mp_drawing.draw_landmarks(image , results.pose_landmarks , mp_pose.POSE_CONNECTIONS ,\n",
    "                        mp_drawing.DrawingSpec( color = ( 245,117,66 ) , thickness = 1 , circle_radius = 4 ) ,\n",
    "                        mp_drawing.DrawingSpec( color = ( 245,66,230 ) , thickness = 2 , circle_radius = 2 )\n",
    "                                 )\n",
    "        k=cv2.waitKey(1)\n",
    "        if k==115:  \n",
    "            export_landmark(results,\"standing\")\n",
    "        if k==107:\n",
    "            export_landmark(results,\"kneeling\")\n",
    "        if k==112:\n",
    "            export_landmark(results,\"proning\")\n",
    "        cv2.imshow('R_AW',image)\n",
    "        if cv2.waitKey(10) & 0xFF ==ord('q'):\n",
    "            break\n",
    "cap.release()\n",
    "videoWriter.release()\n",
    "cv2.destroyAllWindows()\n",
    "        "
   ]
  },
  {
   "cell_type": "markdown",
   "id": "7e46fc5f",
   "metadata": {},
   "source": [
    "# train custome model scikit-learn"
   ]
  },
  {
   "cell_type": "code",
   "execution_count": null,
   "id": "c56733e0",
   "metadata": {},
   "outputs": [],
   "source": [
    "import pandas as pd\n",
    "from sklearn.model_selection import train_test_split"
   ]
  },
  {
   "cell_type": "code",
   "execution_count": null,
   "id": "6af9c408",
   "metadata": {},
   "outputs": [],
   "source": [
    "df= pd.read_csv('coords.csv')"
   ]
  },
  {
   "cell_type": "code",
   "execution_count": null,
   "id": "c449c187",
   "metadata": {},
   "outputs": [],
   "source": [
    "df.head()"
   ]
  },
  {
   "cell_type": "code",
   "execution_count": null,
   "id": "dee65c04",
   "metadata": {},
   "outputs": [],
   "source": [
    "df.tail()"
   ]
  },
  {
   "cell_type": "code",
   "execution_count": null,
   "id": "3e3963e2",
   "metadata": {},
   "outputs": [],
   "source": [
    "df[df['class']=='kneeling']"
   ]
  },
  {
   "cell_type": "code",
   "execution_count": null,
   "id": "866a3b9a",
   "metadata": {},
   "outputs": [],
   "source": [
    "X = df.drop('class', axis=1)\n",
    "y= df['class']"
   ]
  },
  {
   "cell_type": "code",
   "execution_count": null,
   "id": "17617601",
   "metadata": {},
   "outputs": [],
   "source": [
    "X_train, X_test, y_train, y_test= train_test_split(X,y,test_size=0.3,random_state=1234)"
   ]
  },
  {
   "cell_type": "code",
   "execution_count": null,
   "id": "ec538f4e",
   "metadata": {},
   "outputs": [],
   "source": [
    "y_test"
   ]
  },
  {
   "cell_type": "markdown",
   "id": "f2c06c35",
   "metadata": {},
   "source": [
    "# Training"
   ]
  },
  {
   "cell_type": "code",
   "execution_count": null,
   "id": "ac6d0c63",
   "metadata": {},
   "outputs": [],
   "source": [
    "from sklearn.pipeline import make_pipeline\n",
    "from sklearn.preprocessing import StandardScaler\n",
    "from sklearn.linear_model import LogisticRegression, RidgeClassifierCV\n",
    "from sklearn.ensemble import RandomForestClassifier, GradientBoostingClassifier"
   ]
  },
  {
   "cell_type": "code",
   "execution_count": null,
   "id": "d678f0b8",
   "metadata": {},
   "outputs": [],
   "source": [
    "piplines={\n",
    "    'lr':make_pipeline(StandardScaler(),LogisticRegression()),\n",
    "    'rc':make_pipeline(StandardScaler(),RidgeClassifierCV()),\n",
    "    'rf':make_pipeline(StandardScaler(),RandomForestClassifier()),\n",
    "    'gb': make_pipeline(StandardScaler(),GradientBoostingClassifier()),\n",
    "}"
   ]
  },
  {
   "cell_type": "code",
   "execution_count": null,
   "id": "5741a0ee",
   "metadata": {},
   "outputs": [],
   "source": [
    "fit_models = {}\n",
    "for algo, pipeline in piplines.items():\n",
    "    model= pipeline.fit(X_train, y_train)\n",
    "    fit_models[algo]= model"
   ]
  },
  {
   "cell_type": "code",
   "execution_count": null,
   "id": "5d38167b",
   "metadata": {},
   "outputs": [],
   "source": [
    "fit_models"
   ]
  },
  {
   "cell_type": "code",
   "execution_count": null,
   "id": "0fbde81c",
   "metadata": {},
   "outputs": [],
   "source": [
    "fit_models['rc'].predict(X_test)"
   ]
  },
  {
   "cell_type": "code",
   "execution_count": null,
   "id": "475becdd",
   "metadata": {},
   "outputs": [],
   "source": [
    "##evaulate\n"
   ]
  },
  {
   "cell_type": "code",
   "execution_count": null,
   "id": "8198b5de",
   "metadata": {},
   "outputs": [],
   "source": [
    "from sklearn.metrics import recall_score, precision_score, accuracy_score\n",
    "import pickle"
   ]
  },
  {
   "cell_type": "code",
   "execution_count": null,
   "id": "74a49fd6",
   "metadata": {},
   "outputs": [],
   "source": [
    "for algo, model in fit_models.items():\n",
    "    yhat= model.predict(X_test)\n",
    "    print(algo, accuracy_score(y_test.values, yhat),\n",
    "         precision_score(y_test.values, yhat,average=\"micro\", pos_label='proning'),\n",
    "         recall_score(y_test.values, yhat,average=\"micro\", pos_label='proning'))"
   ]
  }
 ],
 "metadata": {
  "kernelspec": {
   "display_name": "venv",
   "language": "python",
   "name": "venv"
  },
  "language_info": {
   "codemirror_mode": {
    "name": "ipython",
    "version": 3
   },
   "file_extension": ".py",
   "mimetype": "text/x-python",
   "name": "python",
   "nbconvert_exporter": "python",
   "pygments_lexer": "ipython3",
   "version": "3.9.7"
  }
 },
 "nbformat": 4,
 "nbformat_minor": 5
}
